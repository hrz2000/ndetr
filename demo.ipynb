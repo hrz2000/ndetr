{
 "cells": [
  {
   "cell_type": "code",
   "execution_count": 1,
   "metadata": {},
   "outputs": [
    {
     "name": "stdout",
     "output_type": "stream",
     "text": [
      "torch.Size([1, 1, 100, 100])\n",
      "(1, 1, 2, 2)\n",
      "[[[[20. 20.]\n",
      "   [80. 20.]]]]\n",
      "torch.Size([1, 1, 1, 2])\n",
      "tensor([[[[1., 0.]]]])\n"
     ]
    },
    {
     "data": {
      "text/plain": [
       "<matplotlib.image.AxesImage at 0x7f32d5315a00>"
      ]
     },
     "execution_count": 1,
     "metadata": {},
     "output_type": "execute_result"
    },
    {
     "data": {
      "image/png": "[encoded data removed]",
      "text/plain": [
       "<Figure size 640x480 with 1 Axes>"
      ]
     },
     "metadata": {},
     "output_type": "display_data"
    }
   ],
   "source": [
    "from PIL import Image, ImageDraw, ImageOps, ImageFont\n",
    "import numpy as np\n",
    "import matplotlib.pyplot as plt\n",
    "import torch.nn.functional as F\n",
    "import torch\n",
    "\n",
    "\n",
    "size = (100,100)\n",
    "img_wp = Image.new('L', size)\n",
    "draw_wp = ImageDraw.Draw(img_wp)\n",
    "draw_wp.line((0,0,20,40), fill=1, width=90)\n",
    "N = 1\n",
    "C = 1\n",
    "img_ = np.array(img_wp)\n",
    "img = img_.reshape(N,C,100,100).astype(np.float32)\n",
    "img = torch.tensor(img)\n",
    "print(img.shape)\n",
    "p = np.array([[20,20],[80,20]]).astype(np.float32)\n",
    "p = p.reshape(N,1,2,2)\n",
    "# 1表示的是query\n",
    "# 第1个2表示点的个数\n",
    "print(p.shape)\n",
    "print(p)\n",
    "p[...,0] /= 100\n",
    "p[...,1] /= 100\n",
    "p = (p - 0.5)*2\n",
    "p = torch.tensor(p)\n",
    "sampled_feat = F.grid_sample(img, p, align_corners=False)\n",
    "print(sampled_feat.shape)\n",
    "print(sampled_feat)\n",
    "plt.imshow(img_)\n",
    "# (N,C,1,2)b"
   ]
  },
  {
   "cell_type": "code",
   "execution_count": null,
   "metadata": {},
   "outputs": [],
   "source": []
  },
  {
   "cell_type": "code",
   "execution_count": 4,
   "metadata": {},
   "outputs": [
    {
     "data": {
      "image/png": "[encoded data removed]",
      "text/plain": [
       "<Figure size 640x480 with 2 Axes>"
      ]
     },
     "metadata": {},
     "output_type": "display_data"
    }
   ],
   "source": [
    "import torch\n",
    "\n",
    "def guassian_kernel(source, target, kernel_mul=2.0, kernel_num=5, fix_sigma=None):\n",
    "    '''\n",
    "    将源域数据和目标域数据转化为核矩阵，即上文中的K\n",
    "    Params: \n",
    "\t    source: 源域数据（n * len(x))\n",
    "\t    target: 目标域数据（m * len(y))\n",
    "\t    kernel_mul: \n",
    "\t    kernel_num: 取不同高斯核的数量\n",
    "\t    fix_sigma: 不同高斯核的sigma值\n",
    "\tReturn:\n",
    "\t\tsum(kernel_val): 多个核矩阵之和\n",
    "    '''\n",
    "    n_samples = int(source.size()[0])+int(target.size()[0])# 求矩阵的行数，一般source和target的尺度是一样的，这样便于计算\n",
    "    total = torch.cat([source, target], dim=0)#将source,target按列方向合并\n",
    "    #将total复制（n+m）份\n",
    "    total0 = total.unsqueeze(0).expand(int(total.size(0)), int(total.size(0)), int(total.size(1)))\n",
    "    #将total的每一行都复制成（n+m）行，即每个数据都扩展成（n+m）份\n",
    "    total1 = total.unsqueeze(1).expand(int(total.size(0)), int(total.size(0)), int(total.size(1)))\n",
    "    #求任意两个数据之间的和，得到的矩阵中坐标（i,j）代表total中第i行数据和第j行数据之间的l2 distance(i==j时为0）\n",
    "    L2_distance = ((total0-total1)**2).sum(2) \n",
    "    #调整高斯核函数的sigma值\n",
    "    if fix_sigma:\n",
    "        bandwidth = fix_sigma\n",
    "    else:\n",
    "        bandwidth = torch.sum(L2_distance.data) / (n_samples**2-n_samples)\n",
    "    #以fix_sigma为中值，以kernel_mul为倍数取kernel_num个bandwidth值（比如fix_sigma为1时，得到[0.25,0.5,1,2,4]\n",
    "    bandwidth /= kernel_mul ** (kernel_num // 2)\n",
    "    bandwidth_list = [bandwidth * (kernel_mul**i) for i in range(kernel_num)]\n",
    "    #高斯核函数的数学表达式\n",
    "    kernel_val = [torch.exp(-L2_distance / bandwidth_temp) for bandwidth_temp in bandwidth_list]\n",
    "    #得到最终的核矩阵\n",
    "    return sum(kernel_val)#/len(kernel_val)\n",
    "\n",
    "def mmd_rbf(source, target, kernel_mul=2.0, kernel_num=5, fix_sigma=None):\n",
    "    '''\n",
    "    计算源域数据和目标域数据的MMD距离\n",
    "    Params: \n",
    "\t    source: 源域数据（n * len(x))\n",
    "\t    target: 目标域数据（m * len(y))\n",
    "\t    kernel_mul: \n",
    "\t    kernel_num: 取不同高斯核的数量\n",
    "\t    fix_sigma: 不同高斯核的sigma值\n",
    "\tReturn:\n",
    "\t\tloss: MMD loss\n",
    "    '''\n",
    "    batch_size = int(source.size()[0])#一般默认为源域和目标域的batchsize相同\n",
    "    kernels = guassian_kernel(source, target,\n",
    "        kernel_mul=kernel_mul, kernel_num=kernel_num, fix_sigma=fix_sigma)\n",
    "    #根据式（3）将核矩阵分成4部分\n",
    "    XX = kernels[:batch_size, :batch_size]\n",
    "    YY = kernels[batch_size:, batch_size:]\n",
    "    XY = kernels[:batch_size, batch_size:]\n",
    "    YX = kernels[batch_size:, :batch_size]\n",
    "    loss = torch.mean(XX + YY - XY -YX)\n",
    "    return loss#因为一般都是n==m，所以L矩阵一般不加入计算\n",
    "import random\n",
    "import matplotlib\n",
    "import matplotlib.pyplot as plt\n",
    "\n",
    "SAMPLE_SIZE = 500\n",
    "buckets = 50\n",
    "\n",
    "#第一种分布：对数正态分布，得到一个中值为mu，标准差为sigma的正态分布。mu可以取任何值，sigma必须大于零。\n",
    "plt.subplot(1,2,1)\n",
    "plt.xlabel(\"random.lognormalvariate\")\n",
    "mu = -0.6\n",
    "sigma = 0.15#将输出数据限制到0-1之间\n",
    "res1 = [random.lognormvariate(mu, sigma) for _ in range(1, SAMPLE_SIZE)]\n",
    "plt.hist(res1, buckets)\n",
    "\n",
    "#第二种分布：beta分布。参数的条件是alpha 和 beta 都要大于0， 返回值在0~1之间。\n",
    "plt.subplot(1,2,2)\n",
    "plt.xlabel(\"random.betavariate\")\n",
    "alpha = 1\n",
    "beta = 10\n",
    "res2 = [random.betavariate(alpha, beta) for _ in range(1, SAMPLE_SIZE)]\n",
    "plt.hist(res2, buckets)\n",
    "\n",
    "plt.show()"
   ]
  },
  {
   "cell_type": "code",
   "execution_count": 6,
   "metadata": {},
   "outputs": [
    {
     "name": "stdout",
     "output_type": "stream",
     "text": [
      "tensor(6.2405)\n"
     ]
    }
   ],
   "source": [
    "from torch.autograd import Variable\n",
    "\n",
    "#参数值见上段代码\n",
    "#分别从对数正态分布和beta分布取两组数据\n",
    "diff_1 = []\n",
    "for i in range(10):\n",
    "    diff_1.append([random.lognormvariate(mu, sigma) for _ in range(1, SAMPLE_SIZE)])\n",
    "\n",
    "diff_2 = []\n",
    "for i in range(10):\n",
    "    diff_2.append([random.betavariate(alpha, beta) for _ in range(1, SAMPLE_SIZE)])\n",
    "\n",
    "# print(diff_1)\n",
    "# print(diff_2)\n",
    "\n",
    "X = torch.Tensor(diff_1)\n",
    "Y = torch.Tensor(diff_2)\n",
    "X,Y = Variable(X), Variable(Y)\n",
    "print(mmd_rbf(X,Y))\n",
    "\n"
   ]
  },
  {
   "cell_type": "code",
   "execution_count": 1,
   "metadata": {},
   "outputs": [
    {
     "data": {
      "text/plain": [
       "'/mnt/disk02/hrz/ndetr/render.html'"
      ]
     },
     "execution_count": 1,
     "metadata": {},
     "output_type": "execute_result"
    }
   ],
   "source": [
    "from pyecharts.charts import Bar, Line\n",
    "from pyecharts import options as opts\n",
    "\n",
    "# 创建一个柱状图对象\n",
    "# bar = Bar()\n",
    "# 添加X轴数据\n",
    "# bar.add_xaxis([\"衬衫\", \"羊毛衫\", \"雪纺衫\", \"裤子\", \"高跟鞋\", \"袜子\"])\n",
    "# # 添加Y轴数据，设置系列名称和颜色\n",
    "# bar.add_yaxis(\"商家A\", [5, 20, 36, 10, [40,50], 90], color=\"#675bba\")\n",
    "# bar.add_yaxis(\"商家B\", [8, 15, 60, 20, 25, 30], color=\"#d48265\")\n",
    "# # 设置全局配置项，如标题，工具栏等\n",
    "# bar.set_global_opts(title_opts=opts.TitleOpts(title=\"主标题: 双十一销量\", subtitle=\"副标题:服饰类\"),\n",
    "#                     toolbox_opts=opts.ToolboxOpts())\n",
    "attnmap = dict(\n",
    "    ds=[36.0, 100.0, 36.0, 95.52929621935282, 60.0, 70.0, 39.0, 61.297530455464305, 7.61063111060272, 12.354528388228484, 11.41750310070195, 60.0, 13.78082423883614, 1.3796655946618275, 36.82187034645358, 5.04596284499649, 10.72874886385342, 36.0, 29.418808508725174, 100.0, 5.950164803548759, 100.0, 14.286324690669925, 84.91940790210631, 4.6655999999999995, 0.6046617599999999, 100.0, 36.0, 29.944325999130466, 100.0, 15.120000000000001, 100.0, 0.0009213519268958694, 6.683747269421859e-08, 60.0, 60.0, 42.60768822905825],\n",
    "    is_=[0.36, 1.0, 0.36, 1.0, 0.6, 0.7, 0.39, 0.65, 0.6, 1.0, 0.42250000000000004, 0.6, 0.6, 1.0, 1.0, 1.0, 0.216, 0.36, 0.36, 1.0, 0.07748295494420535, 1.0, 0.6, 1.0, 0.046655999999999996, 0.006046617599999999, 1.0, 0.36, 1.0, 1.0, 0.1512, 1.0, 9.213519268958693e-06, 6.683747269421858e-10, 0.6, 0.6, 0.6016637440758849],\n",
    "    rc=[100.0, 100.0, 100.0, 95.52929621935282, 100.0, 100.0, 100.0, 94.30389300840662, 12.684385184337867, 12.354528388228484, 27.023675977992777, 100.0, 22.968040398060232, 1.3796655946618275, 36.82187034645358, 5.04596284499649, 49.67013362895102, 100.0, 81.7189125242366, 100.0, 76.79320965279925, 100.0, 23.810541151116542, 84.91940790210631, 100.0, 100.0, 100.0, 100.0, 29.944325999130466, 100.0, 100.0, 100.0, 100.0, 100.0, 100.0, 100.0, 76.52688468946752]\n",
    ")\n",
    "bs_box=dict(\n",
    "    ds=[60.0, 26.54322528003525, 100.0, 52.54818315863481, 50.0, 10.535102690354403, 6.426225, 42.012659749470984, 12.354528388228484, 39.0, 21.16044285806521, 36.12380735651237, 73.58005586484319, 1.433944523459652, 28.62360055427605, 32.191504634390526, 4.060336428182396, 4.6655999999999995, 60.0, 100.0, 76.75874086552848, 34.57352223558562, 2.4766559999999997, 9.828, 4.6655999999999995, 36.0, 12.959999999999999, 100.0, 29.944325999130466, 70.0, 7.683277892801921, 2.3516969226872053, 0.04411755435412618, 0.19651507199999996, 36.0, 60.0, 34.57615747301504],\n",
    "    is_=[0.6, 0.6, 1.0, 0.65, 0.5, 0.36, 0.06426224999999999, 1.0, 1.0, 0.39, 0.42250000000000004, 1.0, 1.0, 1.0, 1.0, 0.36, 1.0, 0.046655999999999996, 0.6, 1.0, 1.0, 0.36, 0.024766559999999996, 0.09827999999999999, 0.046655999999999996, 0.36, 0.1296, 1.0, 1.0, 0.7, 0.18, 1.0, 0.0004479818047487998, 0.0019651507199999994, 0.36, 0.6, 0.568198165070132],\n",
    "    rc=[100.0, 44.23870880005875, 100.0, 80.84335870559201, 100.0, 29.264174139873344, 100.0, 42.012659749470984, 12.354528388228484, 100.0, 50.08388842145611, 36.12380735651237, 73.58005586484319, 1.433944523459652, 28.62360055427605, 89.42084620664035, 4.060336428182396, 100.0, 100.0, 100.0, 76.75874086552848, 96.03756176551562, 100.0, 100.0, 100.0, 100.0, 100.0, 100.0, 29.944325999130466, 100.0, 42.684877182232896, 2.3516969226872053, 98.48068356004894, 100.0, 100.0, 100.0, 73.28604987315936]\n",
    ")\n",
    "\n",
    "import pyecharts.options as opts\n",
    "from pyecharts.charts import Line\n",
    "\n",
    "# 创建一个Line对象\n",
    "line = Line()\n",
    "\n",
    "# 添加x轴和y轴的数据\n",
    "xs = [f\"route_{i}\" for i in range(37)]\n",
    "line.add_xaxis(xs)\n",
    "line.add_yaxis(\"attnmap_ds\", attnmap['ds'], label_opts=False)\n",
    "line.add_yaxis(\"attnmap_is\", attnmap['is_'], label_opts=False)\n",
    "line.add_yaxis(\"attnmap_rc\", attnmap['rc'], label_opts=False)\n",
    "\n",
    "line.add_yaxis(\"bs_box_ds\", bs_box['ds'], label_opts=False)\n",
    "line.add_yaxis(\"bs_box_is\", bs_box['is_'], label_opts=False)\n",
    "line.add_yaxis(\"bs_box_rc\", bs_box['rc'], label_opts=False)\n",
    "\n",
    "# 设置图表标题和工具栏\n",
    "line.set_global_opts(title_opts=opts.TitleOpts(title=\"Weekly Sales\"))\n",
    "line.set_series_opts(linestyle_opts={\"opacity\": 0})\n",
    "# 保存或显示图表\n",
    "# line.render(\"line.html\")\n",
    "\n",
    "line.render()"
   ]
  },
  {
   "cell_type": "code",
   "execution_count": null,
   "metadata": {},
   "outputs": [],
   "source": []
  },
  {
   "cell_type": "code",
   "execution_count": null,
   "metadata": {},
   "outputs": [],
   "source": [
    "import wandb\n",
    "wandb.init()"
   ]
  },
  {
   "cell_type": "code",
   "execution_count": 3,
   "metadata": {},
   "outputs": [
    {
     "data": {
      "text/plain": [
       "[<matplotlib.lines.Line2D at 0x7f32d519d280>]"
      ]
     },
     "execution_count": 3,
     "metadata": {},
     "output_type": "execute_result"
    },
    {
     "data": {
      "image/png": "[encoded data removed]",
      "text/plain": [
       "<Figure size 640x480 with 1 Axes>"
      ]
     },
     "metadata": {},
     "output_type": "display_data"
    }
   ],
   "source": [
    "pos = (20,20)\n",
    "pos2 = (30,40)\n",
    "plt.imshow(img_)\n",
    "plt.plot((pos[0],pos2[0]),(pos[1],pos2[1]))"
   ]
  },
  {
   "cell_type": "code",
   "execution_count": 4,
   "metadata": {},
   "outputs": [
    {
     "name": "stdout",
     "output_type": "stream",
     "text": [
      "(256, 900, 3)\n"
     ]
    }
   ],
   "source": [
    "#!/usr/bin/python\n",
    "#!/usr/bin/env python\n",
    "#-*- coding:UTF-8 -*-\n",
    "#from tqdm import tqdm\n",
    "import mmcv\n",
    "import numpy as np\n",
    "import io\n",
    "import cv2\n",
    "import time\n",
    "from petrel_client.client import Client\n",
    "conf_path = '~/petreloss.conf'\n",
    "#conf_path = '~/.s3cfg'\n",
    "client = Client(conf_path)\n",
    "t1=time.time()\n",
    "img = []\n",
    "img_url = 's3://tr_plan_hrz/l6_dataset/Routes_l6_dataset/longest_weathers_0_route0_01_04_22_32_19/rgb/1277.png'\n",
    "# img_bytes = client.get(img_url)\n",
    "# img_array = np.frombuffer(img_bytes, np.uint8)\n",
    "# img_i = cv2.imdecode(img_array, cv2.IMREAD_COLOR)\n",
    "img_bytes = client.get(img_url)\n",
    "img = mmcv.imfrombytes(img_bytes)\n",
    "print(img.shape)\n",
    "\n",
    "# 's3://tr_plan_hrz/rr_dataset/Routes_Town06_rr/Town06_rr_route5_12_28_07_34_00/rgb/0005.png'"
   ]
  },
  {
   "cell_type": "code",
   "execution_count": 3,
   "metadata": {},
   "outputs": [
    {
     "name": "stdout",
     "output_type": "stream",
     "text": [
      "(256, 900, 3)\n"
     ]
    }
   ],
   "source": [
    "from mmcv.parallel import DataContainer as DC\n",
    "import mmcv\n",
    "import numpy as np\n",
    "\n",
    "class LoadImageFromCeph:\n",
    "    def __init__(self, file_client_args=dict(backend='petrel')):\n",
    "        self.file_client_args = file_client_args.copy()\n",
    "    def __call__(self, img_path):\n",
    "        self.file_client = mmcv.FileClient(**self.file_client_args)\n",
    "        img_bytes = self.file_client.get(img_path)\n",
    "        img = mmcv.imfrombytes(img_bytes)\n",
    "        return img\n",
    "load_img = LoadImageFromCeph()\n",
    "img = load_img('s3://tr_plan_hrz/l6_dataset/Routes_l6_dataset/longest_weathers_0_route0_01_04_22_32_19/rgb/1277.png')\n",
    "print(img.shape)"
   ]
  },
  {
   "cell_type": "code",
   "execution_count": 5,
   "metadata": {},
   "outputs": [
    {
     "name": "stdout",
     "output_type": "stream",
     "text": [
      "2023-02-09_10:27:52\n"
     ]
    },
    {
     "data": {
      "text/plain": [
       "('baseline', '.py')"
      ]
     },
     "execution_count": 5,
     "metadata": {},
     "output_type": "execute_result"
    }
   ],
   "source": [
    "import time\n",
    "print(time.strftime('%Y-%m-%d_%H:%M:%S'))\n",
    "import os.path as osp\n",
    "osp.splitext(osp.basename(\"projects/configs/detr3d/new/baseline.py\"))"
   ]
  },
  {
   "cell_type": "code",
   "execution_count": 2,
   "metadata": {},
   "outputs": [
    {
     "name": "stdout",
     "output_type": "stream",
     "text": [
      "dict_keys(['attn_map', 'input_idx', 'output_idx', 'output_disappear', 'output_label_path'])\n"
     ]
    }
   ],
   "source": [
    "import pickle\n",
    "with open('output/plant_datagen/PlanT_data_1/int_u_s10_dataset/Routes_Town04_Scenario10/Town04_Scenario10_route39_12_29_08_44_03/attnmap/0008.pkl','rb') as f:\n",
    "    t=pickle.load(f)\n",
    "print(t.keys())"
   ]
  },
  {
   "cell_type": "code",
   "execution_count": 3,
   "metadata": {},
   "outputs": [
    {
     "name": "stdout",
     "output_type": "stream",
     "text": [
      "(25, 25)\n",
      "[3.6463e+04 3.6472e+04 3.6474e+04 3.6511e+04 3.6524e+04 3.6526e+04\n",
      " 3.6530e+04 3.6557e+04 3.6583e+04 3.6629e+04 3.6641e+04 3.6653e+04\n",
      " 3.6656e+04 3.6660e+04 3.6698e+04 3.6703e+04 0.0000e+00 1.0000e+00]\n",
      "(8, 8, 25, 25)\n",
      "(25, 200)\n"
     ]
    },
    {
     "data": {
      "text/plain": [
       "<matplotlib.image.AxesImage at 0x7f92c3e8ef10>"
      ]
     },
     "execution_count": 3,
     "metadata": {},
     "output_type": "execute_result"
    },
    {
     "data": {
      "image/png": "[encoded data removed]",
      "text/plain": [
       "<Figure size 3000x1000 with 1 Axes>"
      ]
     },
     "metadata": {},
     "output_type": "display_data"
    }
   ],
   "source": [
    "import numpy as np\n",
    "import matplotlib.pyplot as plt\n",
    "print(t['attn_map'][0][0].shape)\n",
    "# plt.imshow(t['attn_map'][0][0])\n",
    "print(t['input_idx'])\n",
    "num_box_route = len(t['input_idx'])\n",
    "num_box = len(t['output_disappear'])\n",
    "print(t['attn_map'].shape)\n",
    "att_map = t['attn_map'][0]\n",
    "att_map = np.concatenate([t for t in att_map],axis=1)\n",
    "print(att_map.shape)\n",
    "lena = len(att_map)-1\n",
    "# print(att_map.shape)\n",
    "# print(att_map.sum(axis=1))\n",
    "# print(att_map.sum())\n",
    "\n",
    "# new = np.zeros((lena+3,lena+3))\n",
    "# new[1:-1,1:-1]=att_map\n",
    "# new[0,1] = 1\n",
    "# new[0,2:2+num_box] = 0.5\n",
    "# new[0,2+num_box:2+num_box_route] = 0.25\n",
    "# new[0,2+num_box_route] = 0.1\n",
    "\n",
    "# new[1,0] = 1\n",
    "# new[2:2+num_box,0] = 0.5\n",
    "# new[2+num_box:2+num_box_route,0] = 0.25\n",
    "# new[2+num_box_route,0] = 0.1\n",
    "\n",
    "new = att_map\n",
    "\n",
    "plt.figure(figsize=(30,10))\n",
    "plt.imshow(new,cmap='Blues')\n",
    "\n",
    "# TODO: 可视化"
   ]
  },
  {
   "cell_type": "code",
   "execution_count": 11,
   "metadata": {},
   "outputs": [
    {
     "name": "stdout",
     "output_type": "stream",
     "text": [
      "torch.Size([1, 8, 7, 7])\n"
     ]
    }
   ],
   "source": [
    "import torch\n",
    "import numpy as np\n",
    "\n",
    "a = torch.zeros((1,8,53,53))\n",
    "t = [1,23,4,6,7,52,-1]\n",
    "x = len(t)\n",
    "t = torch.tensor(np.array(t))\n",
    "# t = t[None,None,None].repeat(1,1,x,1)\n",
    "y = a[:,:,t][:,:,:,t]\n",
    "# y = a[:,:,t][:,:,:,t]\n",
    "# print(t.shape)\n",
    "# y = a[t]\n",
    "print(y.shape)"
   ]
  },
  {
   "cell_type": "code",
   "execution_count": null,
   "metadata": {},
   "outputs": [],
   "source": []
  },
  {
   "cell_type": "code",
   "execution_count": null,
   "metadata": {},
   "outputs": [],
   "source": []
  },
  {
   "cell_type": "code",
   "execution_count": null,
   "metadata": {},
   "outputs": [],
   "source": []
  },
  {
   "cell_type": "code",
   "execution_count": null,
   "metadata": {},
   "outputs": [],
   "source": []
  },
  {
   "cell_type": "code",
   "execution_count": null,
   "metadata": {},
   "outputs": [],
   "source": []
  },
  {
   "cell_type": "code",
   "execution_count": null,
   "metadata": {},
   "outputs": [],
   "source": []
  }
 ],
 "metadata": {
  "kernelspec": {
   "display_name": "pl",
   "language": "python",
   "name": "python3"
  },
  "language_info": {
   "codemirror_mode": {
    "name": "ipython",
    "version": 3
   },
   "file_extension": ".py",
   "mimetype": "text/x-python",
   "name": "python",
   "nbconvert_exporter": "python",
   "pygments_lexer": "ipython3",
   "version": "3.8.16"
  },
  "orig_nbformat": 4,
  "vscode": {
   "interpreter": {
    "hash": "869527399c23f6993c4904831e3dd0f2683ae3171d46249f9e4b0312b8e1f4ec"
   }
  }
 },
 "nbformat": 4,
 "nbformat_minor": 2
}

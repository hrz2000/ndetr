{
 "cells": [
  {
   "cell_type": "code",
   "execution_count": 1,
   "metadata": {},
   "outputs": [
    {
     "name": "stderr",
     "output_type": "stream",
     "text": [
      "/home/BuaaClass07/miniconda3/envs/plant_h/lib/python3.8/site-packages/mmcv/__init__.py:20: UserWarning: On January 1, 2023, MMCV will release v2.0.0, in which it will remove components related to the training process and add a data transformation module. In addition, it will rename the package names mmcv to mmcv-lite and mmcv-full to mmcv. See https://github.com/open-mmlab/mmcv/blob/master/docs/en/compatibility.md for more details.\n",
      "  warnings.warn(\n"
     ]
    },
    {
     "name": "stdout",
     "output_type": "stream",
     "text": [
      "2 2\n"
     ]
    }
   ],
   "source": [
    "import mmcv\n",
    "a=mmcv.load('/home/BuaaClass07/hrz/ndetr/data/carla_train_hdmap_all.pkl', file_format='pkl')\n",
    "b=mmcv.load('/home/BuaaClass07/hrz/ndetr/data/carla_val_hdmap_all.pkl', file_format='pkl')\n",
    "print(len(a),len(b))"
   ]
  },
  {
   "cell_type": "code",
   "execution_count": 4,
   "metadata": {},
   "outputs": [
    {
     "name": "stdout",
     "output_type": "stream",
     "text": [
      "191809 50881\n"
     ]
    }
   ],
   "source": [
    "print(len(a['infos']),len(b['infos']))"
   ]
  }
 ],
 "metadata": {
  "kernelspec": {
   "display_name": "plant_h",
   "language": "python",
   "name": "python3"
  },
  "language_info": {
   "codemirror_mode": {
    "name": "ipython",
    "version": 3
   },
   "file_extension": ".py",
   "mimetype": "text/x-python",
   "name": "python",
   "nbconvert_exporter": "python",
   "pygments_lexer": "ipython3",
   "version": "3.8.15"
  },
  "orig_nbformat": 4,
  "vscode": {
   "interpreter": {
    "hash": "d9bcfd37b8ad77ffaf9f2b809069b6aec642346699d710e41038900f30d6fb97"
   }
  }
 },
 "nbformat": 4,
 "nbformat_minor": 2
}
